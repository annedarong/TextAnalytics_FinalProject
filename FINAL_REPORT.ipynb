{
 "cells": [
  {
   "cell_type": "markdown",
   "id": "d72c27d0-25cc-4732-85e8-15c95104409f",
   "metadata": {},
   "source": [
    "# Student: Anneda Rong (aar2dk@virginia.edu) \n",
    "## DS 5001 Spring 2023\n",
    "\n",
    "```{yaml}\n",
    "Topic: FINAL PROJECT\n",
    "School: University of Virginia\n",
    "Aff: School of Data Science\n",
    "Professor: Rafael Alvarado\n",
    "Date: 5 May 2023\n",
    "```"
   ]
  },
  {
   "cell_type": "markdown",
   "id": "1f799142-15ef-40e8-9aaa-404ca720e508",
   "metadata": {},
   "source": [
    "# Important Links"
   ]
  },
  {
   "cell_type": "markdown",
   "id": "ba3bfe89-5b11-4d6f-b33e-a51d81666281",
   "metadata": {},
   "source": [
    "GitHub Repo: https://github.com/annedarong/TextAnalytics_FinalProject\n",
    "\n",
    "UVA BOX: https://virginia.box.com/s/voukkwrfdk32ixnv48o85l71f0poxzh7"
   ]
  },
  {
   "cell_type": "markdown",
   "id": "0d1abf55-c634-4467-913f-895eb5fbe254",
   "metadata": {},
   "source": [
    "# **Introduction**"
   ]
  },
  {
   "cell_type": "markdown",
   "id": "4f1c9f83-6c85-43ba-99ab-8df7ff958953",
   "metadata": {},
   "source": [
    "Shakespearean works have endured through centuries, and they still captivate audiences today. The fact that Shakespearean works are still utilized in classrooms and continue to be performed on stages around the world demonstrates the lasting impact of Shakespeare's literary contributions. My main questions include, how? and why? \n",
    "\n",
    "With this project, I aimed to uncover some of the underlying factors that contribute to the enduring popularity of Shakespeare's works. Through sentiment analysis and quantifying the types of information in his works, I sought to provide a deeper understanding of the themes and emotions that are embedded within his texts, specifically plays. In the course of my analysis, I discovered that the enduring popularity of Shakespearean works can be attributed to several factors. Firstly, Shakespeare was a master at capturing the human experience. His works are embedded with complex and relatable characters, timeless themes such as love, power, and betrayal, and a sense of universality that resonates with audiences across generations.\n",
    "\n",
    "Additionally, Shakespeare's writing is characterized by its rich language, intricate wordplay, and poetic beauty. He was able to create a world of language that is both accessible and yet deeply complex, allowing his works to be appreciated on multiple levels. Furthermore, Shakespeare was able to capture the spirit of his time, reflecting the social and political realities of Elizabethan England. His works offer a window into the society of the time, and they continue to be relevant today, as they address universal themes that transcend time and place.\n",
    "\n",
    "In conclusion, this project has provided insights into why Shakespeare's works continue to be popular today. The enduring appeal of his works can be attributed to his ability to capture the human experience, his mastery of language, and his reflection of the social and political realities of his time. The techniques and tools used in this analysis can be applied to other literary works, providing deeper insights into their lasting appeal and significance."
   ]
  },
  {
   "cell_type": "markdown",
   "id": "841ef046-d93e-44a4-8cdf-6e312995a7ea",
   "metadata": {},
   "source": [
    "# **Source Data**"
   ]
  },
  {
   "cell_type": "markdown",
   "id": "4b79e2d3-8542-43b7-9b29-157c05d4e303",
   "metadata": {},
   "source": [
    "### Provenance\n"
   ]
  },
  {
   "cell_type": "markdown",
   "id": "daa6d501-b9d5-4993-824f-8a705737ea46",
   "metadata": {},
   "source": [
    "The Folger Shakespeare Library was my source of data, which contains the works of William Shakespeare. The data available for download includes a comprehensive list of all of Shakespeare's plays and poems, along with information about their publication history, genres, and other relevant details.  \n",
    "\n",
    "The website is maintained by the Folger Shakespeare Library, which is a well-respected institution dedicated to the study and preservation of Shakespeare's works. "
   ]
  },
  {
   "cell_type": "markdown",
   "id": "07a794b4-1320-46cd-a207-01342351e445",
   "metadata": {},
   "source": [
    "Here is a URL to the original data source:\n",
    "\n",
    "https://www.folger.edu/explore/shakespeares-works/download/"
   ]
  },
  {
   "cell_type": "markdown",
   "id": "0b3c364f-3ba2-48c2-a1be-3e7b7e886bc3",
   "metadata": {},
   "source": [
    "### Location\n",
    "Here is where you can find my source files on UVA Box:"
   ]
  },
  {
   "cell_type": "markdown",
   "id": "862c0110-4552-45a3-a421-24891fc4ff02",
   "metadata": {},
   "source": [
    "https://virginia.box.com/s/2ky99szigb0xgcm0bljrah5ouhtlg32s"
   ]
  },
  {
   "cell_type": "markdown",
   "id": "be6c9153-1a51-4103-b492-2f035198a6eb",
   "metadata": {},
   "source": [
    "### Description"
   ]
  },
  {
   "cell_type": "markdown",
   "id": "7592bdf1-1dad-49c3-a5b0-81832c0e60dc",
   "metadata": {},
   "source": [
    "Through Folger's, I downloaded the full horizon of Shakespeare's works, but solely focused on his plays, so I deleted any other files, such as his poems, otherwise.\n",
    "\n",
    "After condensing my dataset to just Shakespeare's plays, I was left with 38 txt files, and after tokenizing my collection, my CORPUS contained 890,487 lines of text (individual character dialogues by play title, act, and scene)."
   ]
  },
  {
   "cell_type": "markdown",
   "id": "01bbfc09-e71b-4b8a-9d42-4b486c9d47a7",
   "metadata": {},
   "source": [
    "### Format"
   ]
  },
  {
   "cell_type": "markdown",
   "id": "81e54377-8708-4f0f-8c35-af31c54127f1",
   "metadata": {},
   "source": [
    "All source files were in the form of txt."
   ]
  },
  {
   "cell_type": "markdown",
   "id": "9d7e2330-4733-4a2b-8600-8b4a4626dbb4",
   "metadata": {},
   "source": [
    "# **Data Model**"
   ]
  },
  {
   "cell_type": "markdown",
   "id": "c69bb40b-0207-4a19-bbfa-2b85e2fb8e18",
   "metadata": {},
   "source": [
    "### Tables\n",
    "* LIB: https://virginia.box.com/s/s1no3dppn49a42hlo03xiy1o924oj6ne\n",
    "* CORPUS: https://virginia.box.com/s/hnnoncqse8m2f2eefpyn3j6f6jyvf53v\n",
    "* VOCAB: https://virginia.box.com/s/cso4c32f0ydm8lgugfvxmbr3f1cfqmsi"
   ]
  },
  {
   "cell_type": "markdown",
   "id": "68c8ddad-2931-403b-8826-5df03def4aa4",
   "metadata": {},
   "source": [
    "The LIB table includes information related to my local source file paths, the titles of Shakespeare's plays with a unique play ID, and the genres of each play.\n",
    "\n",
    "The CORPUS table includes an OHCO pattern of: play_id, act_id, scene_num, dialogue_num and contains a token_str as well as term_str column.\n",
    "\n",
    "The VOCAB table includes term_str as the index and then these annotated features:\n",
    "   * the frequency ('n') of that term\n",
    "   * Max POS\n",
    "   * POS ambiguity\n",
    "   * if the term is a stopword\n",
    "   * porter, snowball, and lancaster stems"
   ]
  },
  {
   "cell_type": "markdown",
   "id": "97b08954-ce75-458f-99e6-6f7aecc0413a",
   "metadata": {},
   "source": [
    "# **Exploration**"
   ]
  },
  {
   "cell_type": "markdown",
   "id": "95bea8f8-1a44-43d3-9b2c-5013174ff011",
   "metadata": {},
   "source": [
    "### Term Frequency-Inverse Document Frequency (TF-IDF)"
   ]
  },
  {
   "cell_type": "markdown",
   "id": "e09f7630-10b4-43f7-9135-e7e69f435c5b",
   "metadata": {},
   "source": [
    "The term frequency (TF) measures how often a word appears in a document, while the inverse document frequency (IDF) measures how important a word is in a corpus by taking into account how frequently it appears in all documents in the corpus. The product of TF and IDF gives the TFIDF score, which indicates the relative importance of a word in a document compared to its importance in the whole corpus."
   ]
  },
  {
   "cell_type": "markdown",
   "id": "aa53190e-7494-4e94-ab3f-c6ea9c3bab07",
   "metadata": {},
   "source": [
    "##### * Top 20 Words by TFIDF mean using 'max' count method and 'play' as bag:"
   ]
  },
  {
   "cell_type": "markdown",
   "id": "7d225a29-fb5f-43cd-a9c1-639bc4edcce0",
   "metadata": {},
   "source": [
    "The table & visual can be viewed here on Box: https://virginia.box.com/s/twljpsspa41cf3nocg4yzmw2lt3ts1jb"
   ]
  },
  {
   "cell_type": "markdown",
   "id": "dcd6a930-0410-4d2d-95b1-fad1d0161330",
   "metadata": {},
   "source": [
    "##### * Top 20 Words by TFIDF mean using 'sum' count method and 'scene' as bag:"
   ]
  },
  {
   "cell_type": "markdown",
   "id": "b5872310-7c2e-41ce-9dbd-871dd051f962",
   "metadata": {},
   "source": [
    "This table & visual can be viewed here on Box: https://virginia.box.com/s/twljpsspa41cf3nocg4yzmw2lt3ts1jb"
   ]
  },
  {
   "cell_type": "markdown",
   "id": "3c17bc98-699f-45d3-821b-434ab6508fa5",
   "metadata": {},
   "source": [
    "### Hierarchical Clustering/Dendrograms"
   ]
  },
  {
   "cell_type": "markdown",
   "id": "b50b4ed6-108a-4d2a-b1a7-93d35e404919",
   "metadata": {},
   "source": [
    "The goal of hierarchical clustering for this dataset is to explore any potential relationships between Shakespeare's works."
   ]
  },
  {
   "cell_type": "markdown",
   "id": "5a5c4085-c1b2-4a65-af25-2690330d1889",
   "metadata": {},
   "source": [
    "https://virginia.box.com/s/zo8cuiinr9xfhcn4fbgzj4u2q9su2ean"
   ]
  },
  {
   "cell_type": "markdown",
   "id": "af71c58b-ff08-4a9e-abe9-7fb61b0f9e79",
   "metadata": {},
   "source": [
    "### Principal Component Analysis (PCA)"
   ]
  },
  {
   "cell_type": "markdown",
   "id": "94beb31b-42c8-4faf-8541-4172b0caf6ef",
   "metadata": {},
   "source": [
    "The goal of applying Principal Component Analysis for my Shakespeare dataset is to attempt to identify underlying patterns and themes within his texts that may not be immediately apparent to human readers. In grade school, I did extensive analysis solely through guiding questions provided by my teachers, and I am curious to see if there may be more hidden patterns in his the language Shakespeare utilizes that can only be detected through computational analysis."
   ]
  },
  {
   "cell_type": "markdown",
   "id": "f8355c2d-97a0-4eea-9a85-96bc409f7f9a",
   "metadata": {},
   "source": [
    "https://virginia.box.com/s/o86vqvxpaxzubga65ib3athk37avz3p8"
   ]
  },
  {
   "cell_type": "markdown",
   "id": "277adb62-cadf-4078-be41-7c64a22d05db",
   "metadata": {},
   "source": [
    "### Topic Models (LDA)"
   ]
  },
  {
   "cell_type": "markdown",
   "id": "592cc944-0e99-455b-80d2-94c60a1d06f0",
   "metadata": {},
   "source": [
    "Topic modeling on Shakespearan plays can help me better identify main themes and motifs. In addition, this method can aid me in comparing the language and themes that Shakespeare utilized across his different plays and across different time periods."
   ]
  },
  {
   "cell_type": "markdown",
   "id": "b0b01d3e-d389-4963-b146-061ac7f469c6",
   "metadata": {},
   "source": [
    "https://virginia.box.com/s/li0nhaqy2o5dapo3rmsp8q0d60p0a07x"
   ]
  },
  {
   "cell_type": "markdown",
   "id": "710f26a1-a158-45b5-ab9f-a60385eb7484",
   "metadata": {},
   "source": [
    "##### Kernel Density Estimation (KDE) Plot"
   ]
  },
  {
   "cell_type": "markdown",
   "id": "6d6f5fc9-4189-40e7-8ac3-994fe53110b1",
   "metadata": {},
   "source": [
    "In the KDE plot linked below, 'term_freq' of each model is plotted, and the SCENE model has a narrower distribution versus the wide DIALOGUE model, indicating a higher entropy in the SCENE model."
   ]
  },
  {
   "cell_type": "markdown",
   "id": "7a23f723-2c9e-4b96-8ae1-1a3c8cd2354f",
   "metadata": {},
   "source": [
    "https://virginia.box.com/s/v3kb9g9c6icmq53g9y298l7v0612crim"
   ]
  },
  {
   "cell_type": "markdown",
   "id": "4f459205-43e9-496d-bd85-01a8db38d9d7",
   "metadata": {},
   "source": [
    "### Word Embeddings"
   ]
  },
  {
   "cell_type": "markdown",
   "id": "e2ebdf45-bf00-4d0b-8d5e-114e308f5d88",
   "metadata": {},
   "source": [
    "Word embeddings can be a very powerful technique, especially for analyzing Shakespearean works. This method represents words as vectors in a high-dimensional space, which each dimension representing a different aspect of the words meaning. In the context of Shakespearean analysis, word embeddings can be used to identify the similarity between different words and phrases in the text."
   ]
  },
  {
   "cell_type": "markdown",
   "id": "5abc1734-d6df-49f9-b49b-137c70ef0a06",
   "metadata": {},
   "source": [
    "https://virginia.box.com/s/5bpvl0htdchbelr3iv1er3kw4kmaxfrb"
   ]
  },
  {
   "cell_type": "markdown",
   "id": "c2b10ae4-3aa4-46d0-8d3d-09c71d87592d",
   "metadata": {},
   "source": [
    "### Sentiment Analysis"
   ]
  },
  {
   "cell_type": "markdown",
   "id": "2e6817c1-932d-4997-a714-dcedd0ee75a0",
   "metadata": {},
   "source": [
    "Sentiment analysis on Shakespeare's plays can provide valuable insights into the emotional content of the plays, which can help me better understand the characters' motivations and the overall mood of the text. If there are sentiment patters, this could be an overall indication of what captured audiences' attention at the time as well."
   ]
  },
  {
   "cell_type": "markdown",
   "id": "3d40adde-4323-437a-baaa-fb31fe7eb887",
   "metadata": {},
   "source": [
    "https://virginia.box.com/s/9mk0y2hoxak0fei4edbira78ybudk9wq"
   ]
  },
  {
   "cell_type": "markdown",
   "id": "26e09b03-94d6-4ee8-8ef8-cce4fa6e3f05",
   "metadata": {},
   "source": [
    "# **Interpretations & Conclusion**"
   ]
  },
  {
   "cell_type": "markdown",
   "id": "7c50f0d7-36e8-4afe-bf25-0037add63205",
   "metadata": {},
   "source": [
    "All methods utilized in this study generally produced meaningful results. Conclusions for each are elaborated below."
   ]
  },
  {
   "cell_type": "markdown",
   "id": "432cd667-0a09-4175-b2c1-d35d18afb2ea",
   "metadata": {},
   "source": [
    "Through Hierarchical Clustering, I was able to verify the general related genres of Shakespeare's works. One particular interesting obsevation is in this figure (https://virginia.box.com/s/gqxhq8hzwrs3mojpy67ra5gf2goy7i9a), although we know that Shakespeare writes a lot of works considered to be tragedies, there are still two separate clusters, indicating that there may be an even deeper, underlying meaning to these clusters of works. One cluster towards the bottom appears to include more Elizabetheran timeline works (Henry VI, Richard III), and the most upper cluster includes more Romance. Perhaps Shakespeare had many different takes on \"Tragedy\" and maybe most likely definied in multiple ways.\n",
    "\n",
    "Through Principal Component Analysis, I found that Shakespeare's Comedy (https://virginia.box.com/s/q1eyzjlskfimon9ytf66kl7781xsxg4e) has the largest range, which could indicate that Shakespeare wrote lots of comedic works and this could maybe explain why audiences enjoyed it so much. the Additionally, through topic modeling, I identifed many different clusters of words (https://virginia.box.com/s/9y01byi4jgyjtjzv498n0j1o87qkhnvs): some related to Fantasy, another relayed to Comedy, and another related to Tragedy. \n",
    "\n",
    "Applying Word Embeddings (https://virginia.box.com/s/wlofty8gbkw5tugi75ycgjxsmyy6lr8x) allowed me reveal words that are closely related in meaning. I was able to connect certain words together like \"king, child, heir, blood, crown\" that are closely related in meaning (seen at the top left). Moreover, I could see the relationship between words like \"power\" (middle left) and \"damned\" (middle right) that are actually more distant in meaning.\n",
    "\n",
    "Through Sentiment Analysis, I believe I was able to capture the most interesting meanings of Shakespeare's works. Although I did a sentiment analysis on all of Shakespeare's plays utilizing ['trust','fear','joy','sentiment'] as keywords, I would like to draw attention to two specific works: The Winter's Tale (https://virginia.box.com/s/x9u2er0twj2xqmcfpb1uz9mwh2ncadrg) and Taming of the Shrew (https://virginia.box.com/s/lo5migs4763e27dnh1t34ik6f40r8n8r)on the keyword \"joy\" throughout the scenes. The Winter's Tale is classified as a \"Romance\" while the Taming of the Shrew is classified as \"Comedy.\" This is important because many audiences today would anticipate romances to be full of joy, maybe a few heartbreaks, but overall in the end joyfull. When looking at these Shakespeare sentiment plots, it's surprising to see that \"joy\" decreases as the romantic scenes continue, but \"joy\" increases in his comedic plays. This leads me to believe that Shakespeare had a way of capturing audiences through dynamically changing the emotions that are portrayed throughout play performances in addition to allowing audience anticipation but then writing/performing the opposite for the element of surprise, which is probably what kept audiences always coming back for more and also why classrooms today continue to analyze Shakespeares, complicated, complex, yet nonetheless, life-lesson-worth works."
   ]
  },
  {
   "cell_type": "markdown",
   "id": "9b155e9d-ba90-458e-86ec-1a600448e4b2",
   "metadata": {},
   "source": [
    "# Additional References"
   ]
  },
  {
   "cell_type": "markdown",
   "id": "f795d2b9-1bb2-470b-a7cd-a6df29c56fdd",
   "metadata": {},
   "source": [
    "1. Source Content & Code: https://github.com/ontoligent/DS5001-2023-01-R\n",
    "\n",
    "2. Course Files: https://www.dropbox.com/sh/f7ayar00et2c4lb/AAC2m_FVPxWXMCM7GWMWmOZHa?dl=0https%3A%2F%2Fwww.dropbox.com%2Fsh%2Ff7ayar00et2c4lb%2FAAC2m_FVPxWXMCM7GWMWmOZHa%3Fdl%3D0"
   ]
  }
 ],
 "metadata": {
  "kernelspec": {
   "display_name": "Python 3",
   "language": "python",
   "name": "python3"
  },
  "language_info": {
   "codemirror_mode": {
    "name": "ipython",
    "version": 3
   },
   "file_extension": ".py",
   "mimetype": "text/x-python",
   "name": "python",
   "nbconvert_exporter": "python",
   "pygments_lexer": "ipython3",
   "version": "3.8.8"
  }
 },
 "nbformat": 4,
 "nbformat_minor": 5
}
